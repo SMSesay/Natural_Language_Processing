{
 "cells": [
  {
   "cell_type": "markdown",
   "id": "15b32273",
   "metadata": {},
   "source": [
    "<h1><center>Natural Language Processing with Amazon Comprehend</center></h1>"
   ]
  },
  {
   "cell_type": "markdown",
   "id": "b4c14915",
   "metadata": {},
   "source": [
    "<p>In this notebook I will be looking at using Natural Language Processing <b>(NLP)</b> techniques to analyse textual data. I will be using Amazon Comprehend which is provisioned by Amazon Web Services <b>(AWS)</b>. Amazon Comprehend is a NLP service that uses machine learning algorithms to uncover unseen insights within text data.</p>"
   ]
  },
  {
   "cell_type": "markdown",
   "id": "72dcb880",
   "metadata": {},
   "source": [
    "<h2>Sentiment Analysis</h2>"
   ]
  },
  {
   "cell_type": "markdown",
   "id": "e4e92d62",
   "metadata": {},
   "source": [
    "<p>Sentiment analysis is a Natural Language Processing <b>(NLP)</b> technique which is used to determine whether data is positive, negative or neutral. Sentiment analysis or Opinion mining is often used by businesses on textual data to assist them in monitoring their brand and product sentiment in customer feedback and to ultimately understand their customers needs.</p>"
   ]
  },
  {
   "cell_type": "markdown",
   "id": "fcc81b4d",
   "metadata": {},
   "source": [
    "<h2>Table of Contents</h2>\n",
    "<ul>\n",
    "    <li><a href=\"#match-report\">1 Match Report</a></li>\n",
    "    <li><a href=\"#setup\">2 Setting up the Environment</a></li>\n",
    "    <li><a href=\"#sentiment\">3 Sentiment Analysis with Amazon Comprehend</a>\n",
    "        <ul>\n",
    "            <li><a href=\"#line-of-text\">3.1 On a line of text</a></li>\n",
    "            <li><a href=\"#line-in-report\">3.2 On a line in the match report</a></li>\n",
    "            <li><a href=\"#full-report\">3.3 On full match report</a></li>\n",
    "            <li><a href=\"#quotes\">3.4 On Indvidual quotes</a></li>\n",
    "        </ul>\n",
    "    </li>\n",
    "    <li><a href=\"#conclusion\">4 Conclusion</a></li>\n",
    "</ul>\n",
    "    "
   ]
  },
  {
   "cell_type": "markdown",
   "id": "c110f5da",
   "metadata": {},
   "source": [
    "<h3 id=\"match-report\">Match Report</h3>"
   ]
  },
  {
   "cell_type": "markdown",
   "id": "95f7237a",
   "metadata": {},
   "source": [
    "The Analysis will be done on Match reports from Manchester United, the quotes taken from the reports will be of two opposing managers in a Premier League football match. The match in question will be Manchester United vs Aston Villa, the match ended 3-1 to Aston Villa. The quotes are from Unai Emery (Aston Villa Manager) and Erik Ten Hag (Manchester United Manager) and will aim to see what sentiment the quotes are associated with. <a href=\"https://www.espn.com/soccer/blog-the-match/story/4793789/man-united-loss-at-aston-villa-another-step-back-for-erik-ten-hag-and-donny-van-de-beek\">Match report by ESPN</a>"
   ]
  },
  {
   "cell_type": "markdown",
   "id": "30eb0753",
   "metadata": {},
   "source": [
    "<img src=\"https://ichef.bbci.co.uk/onesport/cps/976/cpsprodpb/6CA5/production/_127531872_astonvilla.jpg\"/>"
   ]
  },
  {
   "cell_type": "markdown",
   "id": "e927cd30",
   "metadata": {},
   "source": [
    "<h3 id=\"setup\">Setting up the Environment</h3>"
   ]
  },
  {
   "cell_type": "markdown",
   "id": "5199078c",
   "metadata": {},
   "source": [
    "In your AWS Account:\n",
    "\n",
    "<ul>\n",
    "    <li>Create a <a href=\"https://docs.aws.amazon.com/IAM/latest/UserGuide/id_users_create.html#id_users_create_console\">new IAM user</a></li>\n",
    "    <li>Once IAM user has been setup Make a note of YOUR_ACCESS_KEY</li>\n",
    "    <li>Make a note of YOUR_SECRET_KEY</li>\n",
    "\n",
    "</ul>\n",
    "\n",
    "\n",
    "In your Terminal:\n",
    "\n",
    "<ul>\n",
    "    <li>Ensure the <a href=\"https://docs.aws.amazon.com/cli/latest/userguide/getting-started-install.html\">AWS CLI is installed</a>, otherwise <i>pip install awscli</i></li>\n",
    "    <li>use <i>aws configure</i> command to setup your credentials</li>\n",
    "    <li>aws_access_key_id = <b>YOUR_ACCESS_KEY</b></li>\n",
    "    <li>aws_secret_access_key = <b>YOUR_SECRET_KEY</b></li>\n",
    "    <li>Default region name = <b>eu-west-2</b></li>\n",
    "    <li>Default output name = <b>json</b></li>\n",
    "    \n",
    "</ul>"
   ]
  },
  {
   "cell_type": "markdown",
   "id": "ef04d75d",
   "metadata": {},
   "source": [
    "<h3>Import Libraries</h3>"
   ]
  },
  {
   "cell_type": "code",
   "execution_count": 36,
   "id": "eed69f4c",
   "metadata": {},
   "outputs": [],
   "source": [
    "import numpy as np\n",
    "import pandas as pd\n",
    "import boto3\n",
    "import json"
   ]
  },
  {
   "cell_type": "markdown",
   "id": "a6bf19bc",
   "metadata": {},
   "source": [
    "<h3 id=\"sentiment\">Sentiment Analysis with Amazon Comprehend</h3>\n",
    "<h4 id=\"line-of-text\">On a line of Text<h4>"
   ]
  },
  {
   "cell_type": "code",
   "execution_count": 37,
   "id": "732a6896",
   "metadata": {},
   "outputs": [],
   "source": [
    "#Boto3 is the AWS SDK for python and makes it easy to integrate your python script\n",
    "#with AWS services. \n",
    "#We create a client with the service name comprehend and also state what regionwe are in\n",
    "comprehend = boto3.client(service_name=\"comprehend\", region_name=\"eu-west-2\")"
   ]
  },
  {
   "cell_type": "code",
   "execution_count": 38,
   "id": "5f356f69",
   "metadata": {},
   "outputs": [],
   "source": [
    "#Headline of Match Report is stored in a variable\n",
    "MUN_vs_AVL_hl = \"Man United's resounding loss at Aston Villa another step back for Erik ten Hag and Donny van de Beek\""
   ]
  },
  {
   "cell_type": "code",
   "execution_count": 39,
   "id": "040de680",
   "metadata": {},
   "outputs": [
    {
     "name": "stdout",
     "output_type": "stream",
     "text": [
      "{\n",
      "     \"ResponseMetadata\": {\n",
      "          \"HTTPHeaders\": {\n",
      "               \"content-length\": \"163\",\n",
      "               \"content-type\": \"application/x-amz-json-1.1\",\n",
      "               \"date\": \"Wed, 09 Nov 2022 13:51:40 GMT\",\n",
      "               \"x-amzn-requestid\": \"f7d7e539-907a-4419-a182-4361b8239405\"\n",
      "          },\n",
      "          \"HTTPStatusCode\": 200,\n",
      "          \"RequestId\": \"f7d7e539-907a-4419-a182-4361b8239405\",\n",
      "          \"RetryAttempts\": 0\n",
      "     },\n",
      "     \"Sentiment\": \"NEUTRAL\",\n",
      "     \"SentimentScore\": {\n",
      "          \"Mixed\": 5.4537984397029504e-05,\n",
      "          \"Negative\": 0.4732981026172638,\n",
      "          \"Neutral\": 0.5132686495780945,\n",
      "          \"Positive\": 0.013378795236349106\n",
      "     }\n",
      "}\n"
     ]
    }
   ],
   "source": [
    "#We use the detect_sentiment function to inspect our headline text and then \n",
    "#returns a json containing the HTTP response information but also sentiment which is what \n",
    "#we are really interested in \n",
    "print(json.dumps(comprehend.detect_sentiment(Text=MUN_vs_AVL_hl, LanguageCode='en'), sort_keys=True, indent=5))"
   ]
  },
  {
   "cell_type": "markdown",
   "id": "b550724b",
   "metadata": {},
   "source": [
    "From the title of the Match report, Comprehend as deemed this to have a mostly <b>Neutral sentiment (51%)</b> however with a very high proportion of a <b>Negative sentiment (47%)</b> also being present. As the match was somewhat of a upset as Manchester United were favourites and Aston Villa have recently sacked their manager, the headline also refers to Manchester United taking a step back after having a good run of results in comparison to their start of the season."
   ]
  },
  {
   "cell_type": "code",
   "execution_count": 40,
   "id": "e204b513",
   "metadata": {},
   "outputs": [
    {
     "name": "stdout",
     "output_type": "stream",
     "text": [
      "{\n",
      "     \"Entities\": [\n",
      "          {\n",
      "               \"BeginOffset\": 0,\n",
      "               \"EndOffset\": 10,\n",
      "               \"Score\": 0.995070219039917,\n",
      "               \"Text\": \"Man United\",\n",
      "               \"Type\": \"ORGANIZATION\"\n",
      "          },\n",
      "          {\n",
      "               \"BeginOffset\": 32,\n",
      "               \"EndOffset\": 43,\n",
      "               \"Score\": 0.9842805862426758,\n",
      "               \"Text\": \"Aston Villa\",\n",
      "               \"Type\": \"ORGANIZATION\"\n",
      "          },\n",
      "          {\n",
      "               \"BeginOffset\": 66,\n",
      "               \"EndOffset\": 78,\n",
      "               \"Score\": 0.9663777351379395,\n",
      "               \"Text\": \"Erik ten Hag\",\n",
      "               \"Type\": \"PERSON\"\n",
      "          },\n",
      "          {\n",
      "               \"BeginOffset\": 83,\n",
      "               \"EndOffset\": 100,\n",
      "               \"Score\": 0.9987688660621643,\n",
      "               \"Text\": \"Donny van de Beek\",\n",
      "               \"Type\": \"PERSON\"\n",
      "          }\n",
      "     ],\n",
      "     \"ResponseMetadata\": {\n",
      "          \"HTTPHeaders\": {\n",
      "               \"content-length\": \"423\",\n",
      "               \"content-type\": \"application/x-amz-json-1.1\",\n",
      "               \"date\": \"Wed, 09 Nov 2022 13:51:40 GMT\",\n",
      "               \"x-amzn-requestid\": \"4bc1f748-0f01-466d-bab9-81d85ebf5b75\"\n",
      "          },\n",
      "          \"HTTPStatusCode\": 200,\n",
      "          \"RequestId\": \"4bc1f748-0f01-466d-bab9-81d85ebf5b75\",\n",
      "          \"RetryAttempts\": 0\n",
      "     }\n",
      "}\n"
     ]
    }
   ],
   "source": [
    "# We use the detect_entities function to determine entities in the headline \n",
    "print(json.dumps(comprehend.detect_entities(Text=MUN_vs_AVL_hl, LanguageCode='en'), sort_keys=True, indent=5))"
   ]
  },
  {
   "cell_type": "markdown",
   "id": "a26d8912",
   "metadata": {},
   "source": [
    "In the headline the Entities present are 'Erik Ten Hag' and 'Donny van de Beek' which are <b>PERSON</b> entities, 'Man United' and 'Aston Villa' are <b>ORGANIZATION</b> entities."
   ]
  },
  {
   "cell_type": "markdown",
   "id": "9093ee09",
   "metadata": {},
   "source": [
    "<h4 id=\"line-in-report\">On a line in the match report</h4>"
   ]
  },
  {
   "cell_type": "code",
   "execution_count": 41,
   "id": "4712204d",
   "metadata": {},
   "outputs": [],
   "source": [
    "#Read in Match Report from Man Utd vs Real Sociedad game and open and read \n",
    "path = \"MUN_vs_SOC_MatchReport\"\n",
    "report = open(path, \"r\")\n",
    "output = report.readlines()"
   ]
  },
  {
   "cell_type": "code",
   "execution_count": 42,
   "id": "d85dfc24",
   "metadata": {},
   "outputs": [
    {
     "data": {
      "text/plain": [
       "'A first goal for 18-year-old Alejandro Garnacho was enough to defeat Real Sociedad but was not enough to progress as winners of the group, \\n'"
      ]
     },
     "execution_count": 42,
     "metadata": {},
     "output_type": "execute_result"
    }
   ],
   "source": [
    "#Display first line in the match report\n",
    "output[0]"
   ]
  },
  {
   "cell_type": "code",
   "execution_count": 43,
   "id": "2964f061",
   "metadata": {},
   "outputs": [
    {
     "name": "stdout",
     "output_type": "stream",
     "text": [
      "{\n",
      "     \"ResponseMetadata\": {\n",
      "          \"HTTPHeaders\": {\n",
      "               \"content-length\": \"162\",\n",
      "               \"content-type\": \"application/x-amz-json-1.1\",\n",
      "               \"date\": \"Wed, 09 Nov 2022 13:51:40 GMT\",\n",
      "               \"x-amzn-requestid\": \"e5bc6117-c4a8-47a3-ad25-6f4663703e8d\"\n",
      "          },\n",
      "          \"HTTPStatusCode\": 200,\n",
      "          \"RequestId\": \"e5bc6117-c4a8-47a3-ad25-6f4663703e8d\",\n",
      "          \"RetryAttempts\": 0\n",
      "     },\n",
      "     \"Sentiment\": \"NEUTRAL\",\n",
      "     \"SentimentScore\": {\n",
      "          \"Mixed\": 0.004636258818209171,\n",
      "          \"Negative\": 0.12079549580812454,\n",
      "          \"Neutral\": 0.8259332776069641,\n",
      "          \"Positive\": 0.04863499104976654\n",
      "     }\n",
      "}\n"
     ]
    }
   ],
   "source": [
    "print(json.dumps(comprehend.detect_sentiment(Text=output[0], LanguageCode='en'), sort_keys=True, indent=5))"
   ]
  },
  {
   "cell_type": "markdown",
   "id": "5840ec87",
   "metadata": {},
   "source": [
    "The first line of the match report for the Manchester United vs Real Sociedad match that ended 1-0 to Manchester United, had a largely <b>Neutral sentiment (83%)</b>."
   ]
  },
  {
   "cell_type": "markdown",
   "id": "aec4fe21",
   "metadata": {},
   "source": [
    "<h4 id=\"full-report\">On full Match report</h4>"
   ]
  },
  {
   "cell_type": "code",
   "execution_count": 44,
   "id": "2a8da447",
   "metadata": {},
   "outputs": [],
   "source": [
    "#Join the whole Match report together\n",
    "whole_report = ', '.join(map(str, output))"
   ]
  },
  {
   "cell_type": "code",
   "execution_count": 45,
   "id": "3b0b4fd2",
   "metadata": {},
   "outputs": [
    {
     "name": "stdout",
     "output_type": "stream",
     "text": [
      "{\n",
      "     \"ResponseMetadata\": {\n",
      "          \"HTTPHeaders\": {\n",
      "               \"content-length\": \"163\",\n",
      "               \"content-type\": \"application/x-amz-json-1.1\",\n",
      "               \"date\": \"Wed, 09 Nov 2022 13:51:40 GMT\",\n",
      "               \"x-amzn-requestid\": \"f0fe9833-486e-48d2-a95b-3513654f2bbf\"\n",
      "          },\n",
      "          \"HTTPStatusCode\": 200,\n",
      "          \"RequestId\": \"f0fe9833-486e-48d2-a95b-3513654f2bbf\",\n",
      "          \"RetryAttempts\": 0\n",
      "     },\n",
      "     \"Sentiment\": \"NEUTRAL\",\n",
      "     \"SentimentScore\": {\n",
      "          \"Mixed\": 0.00012948377116117626,\n",
      "          \"Negative\": 0.09578736126422882,\n",
      "          \"Neutral\": 0.8686434626579285,\n",
      "          \"Positive\": 0.03543980419635773\n",
      "     }\n",
      "}\n"
     ]
    }
   ],
   "source": [
    "print(json.dumps(comprehend.detect_sentiment(Text=whole_report, LanguageCode='en'), sort_keys=True, indent=5))"
   ]
  },
  {
   "cell_type": "markdown",
   "id": "08c82860",
   "metadata": {},
   "source": [
    "When taking the larger segement of the Match report into account the sentiment was again largely <b>Neutral (87%)</b> slightly more Neutral than the first line of the match report <b>(83%)</b>."
   ]
  },
  {
   "cell_type": "markdown",
   "id": "8e546c25",
   "metadata": {},
   "source": [
    "<h4 id=\"quotes\">On Individual quotes</h4>"
   ]
  },
  {
   "cell_type": "code",
   "execution_count": 46,
   "id": "c7bb8915",
   "metadata": {},
   "outputs": [],
   "source": [
    "#Quote from Unai Emery after winning 3-1 against Manchester United\n",
    "MUN_vs_AVL_qte1 = \"The supporters were amazing supporting us and the players were great with the plan. First step is take confidence, start with energy and the supporters supported with their response. We have the players with the good skills. The way we played the 90 minutes we can be optimistic but only first step and we have to work a lot to keep improving\""
   ]
  },
  {
   "cell_type": "code",
   "execution_count": 47,
   "id": "4773f51c",
   "metadata": {},
   "outputs": [
    {
     "name": "stdout",
     "output_type": "stream",
     "text": [
      "{\n",
      "     \"ResponseMetadata\": {\n",
      "          \"HTTPHeaders\": {\n",
      "               \"content-length\": \"166\",\n",
      "               \"content-type\": \"application/x-amz-json-1.1\",\n",
      "               \"date\": \"Wed, 09 Nov 2022 13:51:40 GMT\",\n",
      "               \"x-amzn-requestid\": \"06d7af0a-21a9-4150-b430-f7f3b9c210af\"\n",
      "          },\n",
      "          \"HTTPStatusCode\": 200,\n",
      "          \"RequestId\": \"06d7af0a-21a9-4150-b430-f7f3b9c210af\",\n",
      "          \"RetryAttempts\": 0\n",
      "     },\n",
      "     \"Sentiment\": \"POSITIVE\",\n",
      "     \"SentimentScore\": {\n",
      "          \"Mixed\": 0.012709115631878376,\n",
      "          \"Negative\": 0.00025073104188777506,\n",
      "          \"Neutral\": 0.008580588735640049,\n",
      "          \"Positive\": 0.9784594774246216\n",
      "     }\n",
      "}\n"
     ]
    }
   ],
   "source": [
    "print(json.dumps(comprehend.detect_sentiment(Text=MUN_vs_AVL_qte1, LanguageCode='en'), sort_keys=True, indent=5))"
   ]
  },
  {
   "cell_type": "markdown",
   "id": "fdf9b6b9",
   "metadata": {},
   "source": [
    "This is the quote from Unai Emery after the game, as you can see this quote had a significantly <b>Positive sentiment (98%)</b> which is to be expected as Aston Villa won the game 3-1 against Manchseter United who were favourites to win the game due to their league position and run of form."
   ]
  },
  {
   "cell_type": "code",
   "execution_count": 48,
   "id": "6e7f4afe",
   "metadata": {},
   "outputs": [],
   "source": [
    "#Quote from Erik Ten Hag after losing 3-1 to Aston Villa\n",
    "MUN_vs_AVL_qte2 = \"I think it was stupid to do that. Because we delivered too quickly crosses in from too far and too much forcing and we don't help him. We have to bring in the crosses in the right moment. We bring the crosses in too quickly. The right moment was Christian Eriksen in the first half in the pocket to deliver the ball to Cristiano at the far post, that was the right moment.\""
   ]
  },
  {
   "cell_type": "code",
   "execution_count": 49,
   "id": "f9adf42c",
   "metadata": {},
   "outputs": [
    {
     "name": "stdout",
     "output_type": "stream",
     "text": [
      "{\n",
      "     \"ResponseMetadata\": {\n",
      "          \"HTTPHeaders\": {\n",
      "               \"content-length\": \"163\",\n",
      "               \"content-type\": \"application/x-amz-json-1.1\",\n",
      "               \"date\": \"Wed, 09 Nov 2022 13:51:40 GMT\",\n",
      "               \"x-amzn-requestid\": \"549e136d-f84b-411b-b2ba-6433bd8a7141\"\n",
      "          },\n",
      "          \"HTTPStatusCode\": 200,\n",
      "          \"RequestId\": \"549e136d-f84b-411b-b2ba-6433bd8a7141\",\n",
      "          \"RetryAttempts\": 0\n",
      "     },\n",
      "     \"Sentiment\": \"NEGATIVE\",\n",
      "     \"SentimentScore\": {\n",
      "          \"Mixed\": 0.12997767329216003,\n",
      "          \"Negative\": 0.7995894551277161,\n",
      "          \"Neutral\": 0.06316803395748138,\n",
      "          \"Positive\": 0.007264777086675167\n",
      "     }\n",
      "}\n"
     ]
    }
   ],
   "source": [
    "print(json.dumps(comprehend.detect_sentiment(Text=MUN_vs_AVL_qte2, LanguageCode='en'), sort_keys=True, indent=5))"
   ]
  },
  {
   "cell_type": "markdown",
   "id": "1d71103c",
   "metadata": {},
   "source": [
    "This is the quote from Erik Ten Hag after the match, this quote had a <b>Negative sentiment (80%)</b> this was due to them losing the match to Aston Villa who had recently changed their manager and have been on a poor run of form."
   ]
  },
  {
   "cell_type": "markdown",
   "id": "9a3dc8b9",
   "metadata": {},
   "source": [
    "<h3 id=\"conclusion\">Conclusion</h3>"
   ]
  },
  {
   "cell_type": "markdown",
   "id": "7641d427",
   "metadata": {},
   "source": [
    "In conclusion this notebook was able to demonstrate ways in which Amazon Comprehend can be used, we analysed a full match rerport, individual lines from a match report and quotes from a match and we then derived the sentiment from each of these and was able to give a score percentage of the sentiment. Comprehend is a powerful NLP service with loads of use cases to explore we only touched the surface in this notebook and there is still loads of functions to make use of."
   ]
  }
 ],
 "metadata": {
  "kernelspec": {
   "display_name": "Python 3",
   "language": "python",
   "name": "python3"
  },
  "language_info": {
   "codemirror_mode": {
    "name": "ipython",
    "version": 3
   },
   "file_extension": ".py",
   "mimetype": "text/x-python",
   "name": "python",
   "nbconvert_exporter": "python",
   "pygments_lexer": "ipython3",
   "version": "3.8.2"
  }
 },
 "nbformat": 4,
 "nbformat_minor": 5
}
